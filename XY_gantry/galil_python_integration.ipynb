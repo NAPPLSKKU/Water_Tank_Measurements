{
  "nbformat": 4,
  "nbformat_minor": 0,
  "metadata": {
    "colab": {
      "provenance": []
    },
    "kernelspec": {
      "name": "python3",
      "display_name": "Python 3"
    },
    "language_info": {
      "name": "python"
    }
  },
  "cells": [
    {
      "cell_type": "code",
      "execution_count": null,
      "metadata": {
        "id": "nG7j9iHtn4BM"
      },
      "outputs": [],
      "source": [
        "'''\n",
        "This code is to integrate python code with the galil terminal.\n",
        "Ideally enter the gclib.py on the windows or linux terminal, open python in it, and then run this script to move the gantry to\n",
        "exact positioning over the wet tank. it should ask the user for integer input, you can type move_to_xy(your x input, your y input)\n",
        "'''\n",
        "import gclib\n",
        "\n",
        "#Constants\n",
        "COUNTS_PER_MM = 2777.456  #adjust if necessary for our system depending on the manufacturing sheet (IN LAB)\n",
        "\n",
        "def move_to_xy(x_mm, y_mm):\n",
        "    \"\"\"Move the Galil gantry to an (x, y) position in millimeters.\"\"\"\n",
        "    x_counts = int(x_mm * COUNTS_PER_MM)\n",
        "    y_counts = int(y_mm * COUNTS_PER_MM)\n",
        "\n",
        "    g = gclib.py()  #creates the connection object\n",
        "    try:\n",
        "        #Open Galil connection (adjust IP or COM port as needed)\n",
        "        g.GOpen(\"'''YOUR IP ADDRESS HERE'''\")  #or \"COM1 --baud 115200\" for USB\n",
        "        print(\"Connected to Galil.\")\n",
        "\n",
        "        #send relative move command\n",
        "        g.GCommand(f\"PR {x_counts},{y_counts}\")  #relative position move\n",
        "        g.GCommand(\"BG X Y\")                     #begin motion on X and Y axes\n",
        "        g.GCommand(\"AM X Y\")                     #wait for motion to complete\n",
        "        print(f\"Successfully moved to X={x_mm} mm, Y={y_mm} mm.\")\n",
        "\n",
        "    except Exception as e:\n",
        "        print(f\"Error: {e}\")\n",
        "    finally:\n",
        "        g.GClose()\n",
        "        print(\"🔌 Connection to Galil closed.\")\n",
        "\n",
        "def interactive_mode():\n",
        "    print(\"\\n Interactive Galil XY Controller\")\n",
        "    print(\"Enter X and Y values in mm (e.g., '10 20') or type 'q' to quit.\\n\")\n",
        "    while True:\n",
        "        coords = input(\"Enter X Y (mm): \").strip()\n",
        "        if coords.lower() == 'q':\n",
        "            break\n",
        "        try:\n",
        "            x_str, y_str = coords.split()\n",
        "            move_to_xy(float(x_str), float(y_str))\n",
        "        except Exception as e:\n",
        "            print(\"⚠️  Invalid input:\", e)\n",
        "\n",
        "'''Uncomment this to run interactively'''\n",
        "# interactive_mode()\n",
        "\n",
        "'''Or run one test move directly'''\n",
        "# move_to_xy(10, 20)\n",
        "\n"
      ]
    }
  ]
}